{
 "cells": [
  {
   "cell_type": "markdown",
   "metadata": {},
   "source": [
    "# Data Cleaning of NYC Airbnb Dataset"
   ]
  },
  {
   "cell_type": "markdown",
   "metadata": {},
   "source": [
    "Data Cleaning of NYC Airbnb Dataset by Fedy Rahmatullah as the first case study on RevoU mini Course"
   ]
  },
  {
   "cell_type": "code",
   "execution_count": 39,
   "metadata": {},
   "outputs": [],
   "source": [
    "import pandas as pd\n",
    "import datetime as dt\n",
    "import matplotlib.pyplot as plt\n",
    "import seaborn as sns"
   ]
  },
  {
   "cell_type": "code",
   "execution_count": 40,
   "metadata": {},
   "outputs": [
    {
     "data": {
      "text/html": [
       "<div>\n",
       "<style scoped>\n",
       "    .dataframe tbody tr th:only-of-type {\n",
       "        vertical-align: middle;\n",
       "    }\n",
       "\n",
       "    .dataframe tbody tr th {\n",
       "        vertical-align: top;\n",
       "    }\n",
       "\n",
       "    .dataframe thead th {\n",
       "        text-align: right;\n",
       "    }\n",
       "</style>\n",
       "<table border=\"1\" class=\"dataframe\">\n",
       "  <thead>\n",
       "    <tr style=\"text-align: right;\">\n",
       "      <th></th>\n",
       "      <th>listing_id</th>\n",
       "      <th>description</th>\n",
       "      <th>room_type</th>\n",
       "      <th>price</th>\n",
       "      <th>neighborhood_full</th>\n",
       "      <th>host_name</th>\n",
       "      <th>last_review</th>\n",
       "    </tr>\n",
       "  </thead>\n",
       "  <tbody>\n",
       "    <tr>\n",
       "      <th>0</th>\n",
       "      <td>2595</td>\n",
       "      <td>Skylit Midtown Castle</td>\n",
       "      <td>Entire home/apt</td>\n",
       "      <td>225 dollars</td>\n",
       "      <td>Manhattan, Midtown</td>\n",
       "      <td>Jennifer</td>\n",
       "      <td>21/05/2021</td>\n",
       "    </tr>\n",
       "    <tr>\n",
       "      <th>1</th>\n",
       "      <td>3831</td>\n",
       "      <td>Cozy Entire Floor of Brownstone</td>\n",
       "      <td>Entire home/apt</td>\n",
       "      <td>89 dollars</td>\n",
       "      <td>Brooklyn, Clinton Hill</td>\n",
       "      <td>LisaRoxanne</td>\n",
       "      <td>21/07/2005</td>\n",
       "    </tr>\n",
       "    <tr>\n",
       "      <th>2</th>\n",
       "      <td>5099</td>\n",
       "      <td>Large Cozy 1 BR Apartment In Midtown East</td>\n",
       "      <td>Entire home/apt</td>\n",
       "      <td>200 dollars</td>\n",
       "      <td>Manhattan, Murray Hill</td>\n",
       "      <td>Chris</td>\n",
       "      <td>21/06/2022</td>\n",
       "    </tr>\n",
       "    <tr>\n",
       "      <th>3</th>\n",
       "      <td>5178</td>\n",
       "      <td>Large Furnished Room Near B'way</td>\n",
       "      <td>private room</td>\n",
       "      <td>79 dollars</td>\n",
       "      <td>Manhattan, Hell's Kitchen</td>\n",
       "      <td>Shunichi</td>\n",
       "      <td>21/06/2024</td>\n",
       "    </tr>\n",
       "    <tr>\n",
       "      <th>4</th>\n",
       "      <td>5238</td>\n",
       "      <td>Cute &amp; Cozy Lower East Side 1 bdrm</td>\n",
       "      <td>Entire home/apt</td>\n",
       "      <td>150 dollars</td>\n",
       "      <td>Manhattan, Chinatown</td>\n",
       "      <td>Ben</td>\n",
       "      <td>21/06/2009</td>\n",
       "    </tr>\n",
       "  </tbody>\n",
       "</table>\n",
       "</div>"
      ],
      "text/plain": [
       "   listing_id                                description        room_type  \\\n",
       "0        2595                      Skylit Midtown Castle  Entire home/apt   \n",
       "1        3831            Cozy Entire Floor of Brownstone  Entire home/apt   \n",
       "2        5099  Large Cozy 1 BR Apartment In Midtown East  Entire home/apt   \n",
       "3        5178            Large Furnished Room Near B'way     private room   \n",
       "4        5238         Cute & Cozy Lower East Side 1 bdrm  Entire home/apt   \n",
       "\n",
       "         price          neighborhood_full    host_name last_review  \n",
       "0  225 dollars         Manhattan, Midtown     Jennifer  21/05/2021  \n",
       "1   89 dollars     Brooklyn, Clinton Hill  LisaRoxanne  21/07/2005  \n",
       "2  200 dollars     Manhattan, Murray Hill        Chris  21/06/2022  \n",
       "3   79 dollars  Manhattan, Hell's Kitchen     Shunichi  21/06/2024  \n",
       "4  150 dollars       Manhattan, Chinatown          Ben  21/06/2009  "
      ]
     },
     "execution_count": 40,
     "metadata": {},
     "output_type": "execute_result"
    }
   ],
   "source": [
    "inn = pd.read_csv('NYC AirBnB Dummy Data - DAMC_C.csv', sep=';', encoding ='unicode_escape')\n",
    "inn.head()"
   ]
  },
  {
   "cell_type": "code",
   "execution_count": 41,
   "metadata": {},
   "outputs": [
    {
     "data": {
      "text/plain": [
       "listing_id            int64\n",
       "description          object\n",
       "room_type            object\n",
       "price                object\n",
       "neighborhood_full    object\n",
       "host_name            object\n",
       "last_review          object\n",
       "dtype: object"
      ]
     },
     "execution_count": 41,
     "metadata": {},
     "output_type": "execute_result"
    }
   ],
   "source": [
    "inn.dtypes"
   ]
  },
  {
   "cell_type": "code",
   "execution_count": 42,
   "metadata": {},
   "outputs": [
    {
     "name": "stdout",
     "output_type": "stream",
     "text": [
      "<class 'pandas.core.frame.DataFrame'>\n",
      "RangeIndex: 24999 entries, 0 to 24998\n",
      "Data columns (total 7 columns):\n",
      " #   Column             Non-Null Count  Dtype \n",
      "---  ------             --------------  ----- \n",
      " 0   listing_id         24999 non-null  int64 \n",
      " 1   description        24999 non-null  object\n",
      " 2   room_type          24999 non-null  object\n",
      " 3   price              24999 non-null  object\n",
      " 4   neighborhood_full  24999 non-null  object\n",
      " 5   host_name          24991 non-null  object\n",
      " 6   last_review        24999 non-null  object\n",
      "dtypes: int64(1), object(6)\n",
      "memory usage: 1.3+ MB\n"
     ]
    }
   ],
   "source": [
    "inn.info()"
   ]
  },
  {
   "cell_type": "code",
   "execution_count": 43,
   "metadata": {},
   "outputs": [
    {
     "data": {
      "text/plain": [
       "listing_id           0\n",
       "description          0\n",
       "room_type            0\n",
       "price                0\n",
       "neighborhood_full    0\n",
       "host_name            8\n",
       "last_review          0\n",
       "dtype: int64"
      ]
     },
     "execution_count": 43,
     "metadata": {},
     "output_type": "execute_result"
    }
   ],
   "source": [
    "inn.isna().sum() "
   ]
  },
  {
   "cell_type": "code",
   "execution_count": 44,
   "metadata": {},
   "outputs": [
    {
     "data": {
      "text/html": [
       "<div>\n",
       "<style scoped>\n",
       "    .dataframe tbody tr th:only-of-type {\n",
       "        vertical-align: middle;\n",
       "    }\n",
       "\n",
       "    .dataframe tbody tr th {\n",
       "        vertical-align: top;\n",
       "    }\n",
       "\n",
       "    .dataframe thead th {\n",
       "        text-align: right;\n",
       "    }\n",
       "</style>\n",
       "<table border=\"1\" class=\"dataframe\">\n",
       "  <thead>\n",
       "    <tr style=\"text-align: right;\">\n",
       "      <th></th>\n",
       "      <th>listing_id</th>\n",
       "      <th>description</th>\n",
       "      <th>room_type</th>\n",
       "      <th>price</th>\n",
       "      <th>neighborhood_full</th>\n",
       "      <th>host_name</th>\n",
       "      <th>last_review</th>\n",
       "    </tr>\n",
       "  </thead>\n",
       "  <tbody>\n",
       "    <tr>\n",
       "      <th>263</th>\n",
       "      <td>100184</td>\n",
       "      <td>Bienvenue</td>\n",
       "      <td>private room</td>\n",
       "      <td>50 dollars</td>\n",
       "      <td>Queens, Queens Village</td>\n",
       "      <td>NaN</td>\n",
       "      <td>21/07/2008</td>\n",
       "    </tr>\n",
       "    <tr>\n",
       "      <th>3040</th>\n",
       "      <td>4183989</td>\n",
       "      <td>SPRING in the City!! Zen-Style Tranquil Bedroom</td>\n",
       "      <td>Private room</td>\n",
       "      <td>86 dollars</td>\n",
       "      <td>Manhattan, Harlem</td>\n",
       "      <td>NaN</td>\n",
       "      <td>21/05/2023</td>\n",
       "    </tr>\n",
       "    <tr>\n",
       "      <th>4039</th>\n",
       "      <td>6292866</td>\n",
       "      <td>Modern Quiet Gem Near All</td>\n",
       "      <td>entire home/apt</td>\n",
       "      <td>85 dollars</td>\n",
       "      <td>Brooklyn, East Flatbush</td>\n",
       "      <td>NaN</td>\n",
       "      <td>21/06/2019</td>\n",
       "    </tr>\n",
       "    <tr>\n",
       "      <th>4269</th>\n",
       "      <td>6786181</td>\n",
       "      <td>R&amp;S Modern Spacious Hideaway</td>\n",
       "      <td>Entire home/apt</td>\n",
       "      <td>100 dollars</td>\n",
       "      <td>Brooklyn, East Flatbush</td>\n",
       "      <td>NaN</td>\n",
       "      <td>21/06/2019</td>\n",
       "    </tr>\n",
       "    <tr>\n",
       "      <th>6338</th>\n",
       "      <td>12113879</td>\n",
       "      <td>Sunny, Large West Village 1 BR Near Everything</td>\n",
       "      <td>Entire home/apt</td>\n",
       "      <td>220 dollars</td>\n",
       "      <td>Manhattan, Chelsea</td>\n",
       "      <td>NaN</td>\n",
       "      <td>21/07/2002</td>\n",
       "    </tr>\n",
       "    <tr>\n",
       "      <th>8060</th>\n",
       "      <td>15648096</td>\n",
       "      <td>Spacious 2 bedroom close to Manhattan</td>\n",
       "      <td>Entire home/apt</td>\n",
       "      <td>75 dollars</td>\n",
       "      <td>Bronx, Highbridge</td>\n",
       "      <td>NaN</td>\n",
       "      <td>21/07/2007</td>\n",
       "    </tr>\n",
       "    <tr>\n",
       "      <th>12128</th>\n",
       "      <td>21867710</td>\n",
       "      <td>Amazing room in the centre on Manhatten! Welcome!</td>\n",
       "      <td>Private room</td>\n",
       "      <td>120 dollars</td>\n",
       "      <td>Manhattan, Hell's Kitchen</td>\n",
       "      <td>NaN</td>\n",
       "      <td>21/01/2001</td>\n",
       "    </tr>\n",
       "    <tr>\n",
       "      <th>12164</th>\n",
       "      <td>21901156</td>\n",
       "      <td>Best Deal! Lovely place in Manhattan! Time Squ...</td>\n",
       "      <td>Private room</td>\n",
       "      <td>120 dollars</td>\n",
       "      <td>Manhattan, Hell's Kitchen</td>\n",
       "      <td>NaN</td>\n",
       "      <td>21/01/2001</td>\n",
       "    </tr>\n",
       "  </tbody>\n",
       "</table>\n",
       "</div>"
      ],
      "text/plain": [
       "       listing_id                                        description  \\\n",
       "263        100184                                          Bienvenue   \n",
       "3040      4183989    SPRING in the City!! Zen-Style Tranquil Bedroom   \n",
       "4039      6292866                          Modern Quiet Gem Near All   \n",
       "4269      6786181                       R&S Modern Spacious Hideaway   \n",
       "6338     12113879     Sunny, Large West Village 1 BR Near Everything   \n",
       "8060     15648096              Spacious 2 bedroom close to Manhattan   \n",
       "12128    21867710  Amazing room in the centre on Manhatten! Welcome!   \n",
       "12164    21901156  Best Deal! Lovely place in Manhattan! Time Squ...   \n",
       "\n",
       "             room_type        price          neighborhood_full host_name  \\\n",
       "263       private room   50 dollars     Queens, Queens Village       NaN   \n",
       "3040      Private room   86 dollars          Manhattan, Harlem       NaN   \n",
       "4039   entire home/apt   85 dollars    Brooklyn, East Flatbush       NaN   \n",
       "4269   Entire home/apt  100 dollars    Brooklyn, East Flatbush       NaN   \n",
       "6338   Entire home/apt  220 dollars         Manhattan, Chelsea       NaN   \n",
       "8060   Entire home/apt   75 dollars          Bronx, Highbridge       NaN   \n",
       "12128     Private room  120 dollars  Manhattan, Hell's Kitchen       NaN   \n",
       "12164     Private room  120 dollars  Manhattan, Hell's Kitchen       NaN   \n",
       "\n",
       "      last_review  \n",
       "263    21/07/2008  \n",
       "3040   21/05/2023  \n",
       "4039   21/06/2019  \n",
       "4269   21/06/2019  \n",
       "6338   21/07/2002  \n",
       "8060   21/07/2007  \n",
       "12128  21/01/2001  \n",
       "12164  21/01/2001  "
      ]
     },
     "execution_count": 44,
     "metadata": {},
     "output_type": "execute_result"
    }
   ],
   "source": [
    "inn[inn.isnull().any(axis=1)] #menampilkan data null"
   ]
  },
  {
   "cell_type": "code",
   "execution_count": 45,
   "metadata": {},
   "outputs": [
    {
     "data": {
      "text/html": [
       "<div>\n",
       "<style scoped>\n",
       "    .dataframe tbody tr th:only-of-type {\n",
       "        vertical-align: middle;\n",
       "    }\n",
       "\n",
       "    .dataframe tbody tr th {\n",
       "        vertical-align: top;\n",
       "    }\n",
       "\n",
       "    .dataframe thead th {\n",
       "        text-align: right;\n",
       "    }\n",
       "</style>\n",
       "<table border=\"1\" class=\"dataframe\">\n",
       "  <thead>\n",
       "    <tr style=\"text-align: right;\">\n",
       "      <th></th>\n",
       "      <th>listing_id</th>\n",
       "      <th>description</th>\n",
       "      <th>room_type</th>\n",
       "      <th>price</th>\n",
       "      <th>neighborhood_full</th>\n",
       "      <th>host_name</th>\n",
       "      <th>last_review</th>\n",
       "    </tr>\n",
       "  </thead>\n",
       "  <tbody>\n",
       "    <tr>\n",
       "      <th>0</th>\n",
       "      <td>2595</td>\n",
       "      <td>Skylit Midtown Castle</td>\n",
       "      <td>Entire home/apt</td>\n",
       "      <td>225 dollars</td>\n",
       "      <td>Manhattan, Midtown</td>\n",
       "      <td>Jennifer</td>\n",
       "      <td>21/05/2021</td>\n",
       "    </tr>\n",
       "    <tr>\n",
       "      <th>1</th>\n",
       "      <td>3831</td>\n",
       "      <td>Cozy Entire Floor of Brownstone</td>\n",
       "      <td>Entire home/apt</td>\n",
       "      <td>89 dollars</td>\n",
       "      <td>Brooklyn, Clinton Hill</td>\n",
       "      <td>LisaRoxanne</td>\n",
       "      <td>21/07/2005</td>\n",
       "    </tr>\n",
       "    <tr>\n",
       "      <th>2</th>\n",
       "      <td>5099</td>\n",
       "      <td>Large Cozy 1 BR Apartment In Midtown East</td>\n",
       "      <td>Entire home/apt</td>\n",
       "      <td>200 dollars</td>\n",
       "      <td>Manhattan, Murray Hill</td>\n",
       "      <td>Chris</td>\n",
       "      <td>21/06/2022</td>\n",
       "    </tr>\n",
       "    <tr>\n",
       "      <th>3</th>\n",
       "      <td>5178</td>\n",
       "      <td>Large Furnished Room Near B'way</td>\n",
       "      <td>private room</td>\n",
       "      <td>79 dollars</td>\n",
       "      <td>Manhattan, Hell's Kitchen</td>\n",
       "      <td>Shunichi</td>\n",
       "      <td>21/06/2024</td>\n",
       "    </tr>\n",
       "    <tr>\n",
       "      <th>4</th>\n",
       "      <td>5238</td>\n",
       "      <td>Cute &amp; Cozy Lower East Side 1 bdrm</td>\n",
       "      <td>Entire home/apt</td>\n",
       "      <td>150 dollars</td>\n",
       "      <td>Manhattan, Chinatown</td>\n",
       "      <td>Ben</td>\n",
       "      <td>21/06/2009</td>\n",
       "    </tr>\n",
       "    <tr>\n",
       "      <th>...</th>\n",
       "      <td>...</td>\n",
       "      <td>...</td>\n",
       "      <td>...</td>\n",
       "      <td>...</td>\n",
       "      <td>...</td>\n",
       "      <td>...</td>\n",
       "      <td>...</td>\n",
       "    </tr>\n",
       "    <tr>\n",
       "      <th>24994</th>\n",
       "      <td>35865346</td>\n",
       "      <td>Spacious Modern Apt. Near JFK Airport and Trains</td>\n",
       "      <td>ENTIRE HOME/APT</td>\n",
       "      <td>129 dollars</td>\n",
       "      <td>Queens, Jamaica</td>\n",
       "      <td>Sharon</td>\n",
       "      <td>21/07/2007</td>\n",
       "    </tr>\n",
       "    <tr>\n",
       "      <th>24995</th>\n",
       "      <td>35865788</td>\n",
       "      <td>Brand new 1Bedroom apartment with private terrace</td>\n",
       "      <td>Entire home/apt</td>\n",
       "      <td>175 dollars</td>\n",
       "      <td>Queens, Long Island City</td>\n",
       "      <td>Kasper</td>\n",
       "      <td>21/06/2023</td>\n",
       "    </tr>\n",
       "    <tr>\n",
       "      <th>24996</th>\n",
       "      <td>35866165</td>\n",
       "      <td>A Place to stay in Brooklyn</td>\n",
       "      <td>ENTIRE HOME/APT</td>\n",
       "      <td>150 dollars</td>\n",
       "      <td>Brooklyn, Borough Park</td>\n",
       "      <td>Mord</td>\n",
       "      <td>21/07/2001</td>\n",
       "    </tr>\n",
       "    <tr>\n",
       "      <th>24997</th>\n",
       "      <td>35867917</td>\n",
       "      <td>Updated Studio apartment, clean and fresh</td>\n",
       "      <td>Entire home/apt</td>\n",
       "      <td>99 dollars</td>\n",
       "      <td>Brooklyn, Bushwick</td>\n",
       "      <td>Sadie</td>\n",
       "      <td>21/07/2005</td>\n",
       "    </tr>\n",
       "    <tr>\n",
       "      <th>24998</th>\n",
       "      <td>35867923</td>\n",
       "      <td>Room in a lovely loft with waterfront view</td>\n",
       "      <td>Private room</td>\n",
       "      <td>80 dollars</td>\n",
       "      <td>Brooklyn, Williamsburg</td>\n",
       "      <td>Mailys</td>\n",
       "      <td>21/06/2024</td>\n",
       "    </tr>\n",
       "  </tbody>\n",
       "</table>\n",
       "<p>24999 rows × 7 columns</p>\n",
       "</div>"
      ],
      "text/plain": [
       "       listing_id                                        description  \\\n",
       "0            2595                              Skylit Midtown Castle   \n",
       "1            3831                    Cozy Entire Floor of Brownstone   \n",
       "2            5099          Large Cozy 1 BR Apartment In Midtown East   \n",
       "3            5178                    Large Furnished Room Near B'way   \n",
       "4            5238                 Cute & Cozy Lower East Side 1 bdrm   \n",
       "...           ...                                                ...   \n",
       "24994    35865346   Spacious Modern Apt. Near JFK Airport and Trains   \n",
       "24995    35865788  Brand new 1Bedroom apartment with private terrace   \n",
       "24996    35866165                        A Place to stay in Brooklyn   \n",
       "24997    35867917          Updated Studio apartment, clean and fresh   \n",
       "24998    35867923         Room in a lovely loft with waterfront view   \n",
       "\n",
       "             room_type        price          neighborhood_full    host_name  \\\n",
       "0      Entire home/apt  225 dollars         Manhattan, Midtown     Jennifer   \n",
       "1      Entire home/apt   89 dollars     Brooklyn, Clinton Hill  LisaRoxanne   \n",
       "2      Entire home/apt  200 dollars     Manhattan, Murray Hill        Chris   \n",
       "3         private room   79 dollars  Manhattan, Hell's Kitchen     Shunichi   \n",
       "4      Entire home/apt  150 dollars       Manhattan, Chinatown          Ben   \n",
       "...                ...          ...                        ...          ...   \n",
       "24994  ENTIRE HOME/APT  129 dollars            Queens, Jamaica       Sharon   \n",
       "24995  Entire home/apt  175 dollars   Queens, Long Island City       Kasper   \n",
       "24996  ENTIRE HOME/APT  150 dollars     Brooklyn, Borough Park         Mord   \n",
       "24997  Entire home/apt   99 dollars         Brooklyn, Bushwick        Sadie   \n",
       "24998     Private room   80 dollars     Brooklyn, Williamsburg       Mailys   \n",
       "\n",
       "      last_review  \n",
       "0      21/05/2021  \n",
       "1      21/07/2005  \n",
       "2      21/06/2022  \n",
       "3      21/06/2024  \n",
       "4      21/06/2009  \n",
       "...           ...  \n",
       "24994  21/07/2007  \n",
       "24995  21/06/2023  \n",
       "24996  21/07/2001  \n",
       "24997  21/07/2005  \n",
       "24998  21/06/2024  \n",
       "\n",
       "[24999 rows x 7 columns]"
      ]
     },
     "execution_count": 45,
     "metadata": {},
     "output_type": "execute_result"
    }
   ],
   "source": [
    "inn = inn.copy()\n",
    "# inn.dropna(axis=0, inplace=True) #menghapus data dengan nilai null\n",
    "inn.fillna({'host_name':0}, inplace=True)\n",
    "inn"
   ]
  },
  {
   "cell_type": "code",
   "execution_count": 46,
   "metadata": {},
   "outputs": [
    {
     "data": {
      "text/plain": [
       "listing_id           0\n",
       "description          0\n",
       "room_type            0\n",
       "price                0\n",
       "neighborhood_full    0\n",
       "host_name            0\n",
       "last_review          0\n",
       "dtype: int64"
      ]
     },
     "execution_count": 46,
     "metadata": {},
     "output_type": "execute_result"
    }
   ],
   "source": [
    "inn.isna().sum() "
   ]
  },
  {
   "cell_type": "code",
   "execution_count": 47,
   "metadata": {},
   "outputs": [
    {
     "data": {
      "text/html": [
       "<div>\n",
       "<style scoped>\n",
       "    .dataframe tbody tr th:only-of-type {\n",
       "        vertical-align: middle;\n",
       "    }\n",
       "\n",
       "    .dataframe tbody tr th {\n",
       "        vertical-align: top;\n",
       "    }\n",
       "\n",
       "    .dataframe thead th {\n",
       "        text-align: right;\n",
       "    }\n",
       "</style>\n",
       "<table border=\"1\" class=\"dataframe\">\n",
       "  <thead>\n",
       "    <tr style=\"text-align: right;\">\n",
       "      <th></th>\n",
       "      <th>listing_id</th>\n",
       "    </tr>\n",
       "  </thead>\n",
       "  <tbody>\n",
       "    <tr>\n",
       "      <th>count</th>\n",
       "      <td>2.499900e+04</td>\n",
       "    </tr>\n",
       "    <tr>\n",
       "      <th>mean</th>\n",
       "      <td>2.056006e+07</td>\n",
       "    </tr>\n",
       "    <tr>\n",
       "      <th>std</th>\n",
       "      <td>1.098472e+07</td>\n",
       "    </tr>\n",
       "    <tr>\n",
       "      <th>min</th>\n",
       "      <td>2.595000e+03</td>\n",
       "    </tr>\n",
       "    <tr>\n",
       "      <th>25%</th>\n",
       "      <td>1.187292e+07</td>\n",
       "    </tr>\n",
       "    <tr>\n",
       "      <th>50%</th>\n",
       "      <td>2.225188e+07</td>\n",
       "    </tr>\n",
       "    <tr>\n",
       "      <th>75%</th>\n",
       "      <td>3.025357e+07</td>\n",
       "    </tr>\n",
       "    <tr>\n",
       "      <th>max</th>\n",
       "      <td>3.586792e+07</td>\n",
       "    </tr>\n",
       "  </tbody>\n",
       "</table>\n",
       "</div>"
      ],
      "text/plain": [
       "         listing_id\n",
       "count  2.499900e+04\n",
       "mean   2.056006e+07\n",
       "std    1.098472e+07\n",
       "min    2.595000e+03\n",
       "25%    1.187292e+07\n",
       "50%    2.225188e+07\n",
       "75%    3.025357e+07\n",
       "max    3.586792e+07"
      ]
     },
     "execution_count": 47,
     "metadata": {},
     "output_type": "execute_result"
    }
   ],
   "source": [
    "inn.describe()"
   ]
  },
  {
   "cell_type": "markdown",
   "metadata": {},
   "source": [
    "**Mengubah tipe data dari price ke integer**"
   ]
  },
  {
   "cell_type": "code",
   "execution_count": 48,
   "metadata": {},
   "outputs": [],
   "source": [
    "inn['price'] = inn['price'].str.strip(' dollars')"
   ]
  },
  {
   "cell_type": "code",
   "execution_count": 49,
   "metadata": {},
   "outputs": [
    {
     "data": {
      "text/plain": [
       "listing_id            int64\n",
       "description          object\n",
       "room_type            object\n",
       "price                 int32\n",
       "neighborhood_full    object\n",
       "host_name            object\n",
       "last_review          object\n",
       "dtype: object"
      ]
     },
     "execution_count": 49,
     "metadata": {},
     "output_type": "execute_result"
    }
   ],
   "source": [
    "inn['price'] = inn['price'].astype('int')\n",
    "inn.dtypes"
   ]
  },
  {
   "cell_type": "code",
   "execution_count": 50,
   "metadata": {},
   "outputs": [
    {
     "data": {
      "text/plain": [
       "3547146"
      ]
     },
     "execution_count": 50,
     "metadata": {},
     "output_type": "execute_result"
    }
   ],
   "source": [
    "inn['price'].sum()"
   ]
  },
  {
   "cell_type": "code",
   "execution_count": 51,
   "metadata": {},
   "outputs": [
    {
     "data": {
      "text/html": [
       "<div>\n",
       "<style scoped>\n",
       "    .dataframe tbody tr th:only-of-type {\n",
       "        vertical-align: middle;\n",
       "    }\n",
       "\n",
       "    .dataframe tbody tr th {\n",
       "        vertical-align: top;\n",
       "    }\n",
       "\n",
       "    .dataframe thead th {\n",
       "        text-align: right;\n",
       "    }\n",
       "</style>\n",
       "<table border=\"1\" class=\"dataframe\">\n",
       "  <thead>\n",
       "    <tr style=\"text-align: right;\">\n",
       "      <th></th>\n",
       "      <th>listing_id</th>\n",
       "      <th>description</th>\n",
       "      <th>room_type</th>\n",
       "      <th>price</th>\n",
       "      <th>neighborhood_full</th>\n",
       "      <th>host_name</th>\n",
       "      <th>last_review</th>\n",
       "    </tr>\n",
       "  </thead>\n",
       "  <tbody>\n",
       "    <tr>\n",
       "      <th>0</th>\n",
       "      <td>2595</td>\n",
       "      <td>Skylit Midtown Castle</td>\n",
       "      <td>Entire home/apt</td>\n",
       "      <td>225</td>\n",
       "      <td>Manhattan, Midtown</td>\n",
       "      <td>Jennifer</td>\n",
       "      <td>21/05/2021</td>\n",
       "    </tr>\n",
       "    <tr>\n",
       "      <th>1</th>\n",
       "      <td>3831</td>\n",
       "      <td>Cozy Entire Floor of Brownstone</td>\n",
       "      <td>Entire home/apt</td>\n",
       "      <td>89</td>\n",
       "      <td>Brooklyn, Clinton Hill</td>\n",
       "      <td>LisaRoxanne</td>\n",
       "      <td>21/07/2005</td>\n",
       "    </tr>\n",
       "    <tr>\n",
       "      <th>2</th>\n",
       "      <td>5099</td>\n",
       "      <td>Large Cozy 1 BR Apartment In Midtown East</td>\n",
       "      <td>Entire home/apt</td>\n",
       "      <td>200</td>\n",
       "      <td>Manhattan, Murray Hill</td>\n",
       "      <td>Chris</td>\n",
       "      <td>21/06/2022</td>\n",
       "    </tr>\n",
       "    <tr>\n",
       "      <th>3</th>\n",
       "      <td>5178</td>\n",
       "      <td>Large Furnished Room Near B'way</td>\n",
       "      <td>private room</td>\n",
       "      <td>79</td>\n",
       "      <td>Manhattan, Hell's Kitchen</td>\n",
       "      <td>Shunichi</td>\n",
       "      <td>21/06/2024</td>\n",
       "    </tr>\n",
       "    <tr>\n",
       "      <th>4</th>\n",
       "      <td>5238</td>\n",
       "      <td>Cute &amp; Cozy Lower East Side 1 bdrm</td>\n",
       "      <td>Entire home/apt</td>\n",
       "      <td>150</td>\n",
       "      <td>Manhattan, Chinatown</td>\n",
       "      <td>Ben</td>\n",
       "      <td>21/06/2009</td>\n",
       "    </tr>\n",
       "  </tbody>\n",
       "</table>\n",
       "</div>"
      ],
      "text/plain": [
       "   listing_id                                description        room_type  \\\n",
       "0        2595                      Skylit Midtown Castle  Entire home/apt   \n",
       "1        3831            Cozy Entire Floor of Brownstone  Entire home/apt   \n",
       "2        5099  Large Cozy 1 BR Apartment In Midtown East  Entire home/apt   \n",
       "3        5178            Large Furnished Room Near B'way     private room   \n",
       "4        5238         Cute & Cozy Lower East Side 1 bdrm  Entire home/apt   \n",
       "\n",
       "   price          neighborhood_full    host_name last_review  \n",
       "0    225         Manhattan, Midtown     Jennifer  21/05/2021  \n",
       "1     89     Brooklyn, Clinton Hill  LisaRoxanne  21/07/2005  \n",
       "2    200     Manhattan, Murray Hill        Chris  21/06/2022  \n",
       "3     79  Manhattan, Hell's Kitchen     Shunichi  21/06/2024  \n",
       "4    150       Manhattan, Chinatown          Ben  21/06/2009  "
      ]
     },
     "execution_count": 51,
     "metadata": {},
     "output_type": "execute_result"
    }
   ],
   "source": [
    "inn.head()"
   ]
  },
  {
   "cell_type": "markdown",
   "metadata": {},
   "source": [
    "**Membuat semua kategori di room_type capitalize each word**"
   ]
  },
  {
   "cell_type": "code",
   "execution_count": 52,
   "metadata": {},
   "outputs": [
    {
     "data": {
      "text/plain": [
       "array(['Entire home/apt', 'private room', 'Private room',\n",
       "       'entire home/apt', 'PRIVATE ROOM', 'shared room',\n",
       "       'ENTIRE HOME/APT', 'Shared room', 'SHARED ROOM'], dtype=object)"
      ]
     },
     "execution_count": 52,
     "metadata": {},
     "output_type": "execute_result"
    }
   ],
   "source": [
    "inn.room_type.unique()"
   ]
  },
  {
   "cell_type": "code",
   "execution_count": 53,
   "metadata": {},
   "outputs": [
    {
     "data": {
      "text/html": [
       "<div>\n",
       "<style scoped>\n",
       "    .dataframe tbody tr th:only-of-type {\n",
       "        vertical-align: middle;\n",
       "    }\n",
       "\n",
       "    .dataframe tbody tr th {\n",
       "        vertical-align: top;\n",
       "    }\n",
       "\n",
       "    .dataframe thead th {\n",
       "        text-align: right;\n",
       "    }\n",
       "</style>\n",
       "<table border=\"1\" class=\"dataframe\">\n",
       "  <thead>\n",
       "    <tr style=\"text-align: right;\">\n",
       "      <th></th>\n",
       "      <th>listing_id</th>\n",
       "      <th>description</th>\n",
       "      <th>room_type</th>\n",
       "      <th>price</th>\n",
       "      <th>neighborhood_full</th>\n",
       "      <th>host_name</th>\n",
       "      <th>last_review</th>\n",
       "    </tr>\n",
       "  </thead>\n",
       "  <tbody>\n",
       "    <tr>\n",
       "      <th>0</th>\n",
       "      <td>2595</td>\n",
       "      <td>Skylit Midtown Castle</td>\n",
       "      <td>Entire Home/Apt</td>\n",
       "      <td>225</td>\n",
       "      <td>Manhattan, Midtown</td>\n",
       "      <td>Jennifer</td>\n",
       "      <td>21/05/2021</td>\n",
       "    </tr>\n",
       "    <tr>\n",
       "      <th>1</th>\n",
       "      <td>3831</td>\n",
       "      <td>Cozy Entire Floor of Brownstone</td>\n",
       "      <td>Entire Home/Apt</td>\n",
       "      <td>89</td>\n",
       "      <td>Brooklyn, Clinton Hill</td>\n",
       "      <td>LisaRoxanne</td>\n",
       "      <td>21/07/2005</td>\n",
       "    </tr>\n",
       "    <tr>\n",
       "      <th>2</th>\n",
       "      <td>5099</td>\n",
       "      <td>Large Cozy 1 BR Apartment In Midtown East</td>\n",
       "      <td>Entire Home/Apt</td>\n",
       "      <td>200</td>\n",
       "      <td>Manhattan, Murray Hill</td>\n",
       "      <td>Chris</td>\n",
       "      <td>21/06/2022</td>\n",
       "    </tr>\n",
       "    <tr>\n",
       "      <th>3</th>\n",
       "      <td>5178</td>\n",
       "      <td>Large Furnished Room Near B'way</td>\n",
       "      <td>Private Room</td>\n",
       "      <td>79</td>\n",
       "      <td>Manhattan, Hell's Kitchen</td>\n",
       "      <td>Shunichi</td>\n",
       "      <td>21/06/2024</td>\n",
       "    </tr>\n",
       "    <tr>\n",
       "      <th>4</th>\n",
       "      <td>5238</td>\n",
       "      <td>Cute &amp; Cozy Lower East Side 1 bdrm</td>\n",
       "      <td>Entire Home/Apt</td>\n",
       "      <td>150</td>\n",
       "      <td>Manhattan, Chinatown</td>\n",
       "      <td>Ben</td>\n",
       "      <td>21/06/2009</td>\n",
       "    </tr>\n",
       "  </tbody>\n",
       "</table>\n",
       "</div>"
      ],
      "text/plain": [
       "   listing_id                                description        room_type  \\\n",
       "0        2595                      Skylit Midtown Castle  Entire Home/Apt   \n",
       "1        3831            Cozy Entire Floor of Brownstone  Entire Home/Apt   \n",
       "2        5099  Large Cozy 1 BR Apartment In Midtown East  Entire Home/Apt   \n",
       "3        5178            Large Furnished Room Near B'way     Private Room   \n",
       "4        5238         Cute & Cozy Lower East Side 1 bdrm  Entire Home/Apt   \n",
       "\n",
       "   price          neighborhood_full    host_name last_review  \n",
       "0    225         Manhattan, Midtown     Jennifer  21/05/2021  \n",
       "1     89     Brooklyn, Clinton Hill  LisaRoxanne  21/07/2005  \n",
       "2    200     Manhattan, Murray Hill        Chris  21/06/2022  \n",
       "3     79  Manhattan, Hell's Kitchen     Shunichi  21/06/2024  \n",
       "4    150       Manhattan, Chinatown          Ben  21/06/2009  "
      ]
     },
     "execution_count": 53,
     "metadata": {},
     "output_type": "execute_result"
    }
   ],
   "source": [
    "inn['room_type'] = inn['room_type'].str.title()\n",
    "inn.head()"
   ]
  },
  {
   "cell_type": "code",
   "execution_count": 54,
   "metadata": {},
   "outputs": [
    {
     "data": {
      "text/plain": [
       "array(['Entire Home/Apt', 'Private Room', 'Shared Room'], dtype=object)"
      ]
     },
     "execution_count": 54,
     "metadata": {},
     "output_type": "execute_result"
    }
   ],
   "source": [
    "inn.room_type.unique()"
   ]
  },
  {
   "cell_type": "markdown",
   "metadata": {},
   "source": [
    "**Membagi neighborhood sesuai area dan sub_area**"
   ]
  },
  {
   "cell_type": "code",
   "execution_count": 55,
   "metadata": {},
   "outputs": [
    {
     "data": {
      "text/html": [
       "<div>\n",
       "<style scoped>\n",
       "    .dataframe tbody tr th:only-of-type {\n",
       "        vertical-align: middle;\n",
       "    }\n",
       "\n",
       "    .dataframe tbody tr th {\n",
       "        vertical-align: top;\n",
       "    }\n",
       "\n",
       "    .dataframe thead th {\n",
       "        text-align: right;\n",
       "    }\n",
       "</style>\n",
       "<table border=\"1\" class=\"dataframe\">\n",
       "  <thead>\n",
       "    <tr style=\"text-align: right;\">\n",
       "      <th></th>\n",
       "      <th>listing_id</th>\n",
       "      <th>description</th>\n",
       "      <th>room_type</th>\n",
       "      <th>price</th>\n",
       "      <th>neighborhood_full</th>\n",
       "      <th>host_name</th>\n",
       "      <th>last_review</th>\n",
       "    </tr>\n",
       "  </thead>\n",
       "  <tbody>\n",
       "  </tbody>\n",
       "</table>\n",
       "</div>"
      ],
      "text/plain": [
       "Empty DataFrame\n",
       "Columns: [listing_id, description, room_type, price, neighborhood_full, host_name, last_review]\n",
       "Index: []"
      ]
     },
     "execution_count": 55,
     "metadata": {},
     "output_type": "execute_result"
    }
   ],
   "source": [
    "inn[inn.duplicated()]"
   ]
  },
  {
   "cell_type": "code",
   "execution_count": 56,
   "metadata": {},
   "outputs": [
    {
     "data": {
      "text/html": [
       "<div>\n",
       "<style scoped>\n",
       "    .dataframe tbody tr th:only-of-type {\n",
       "        vertical-align: middle;\n",
       "    }\n",
       "\n",
       "    .dataframe tbody tr th {\n",
       "        vertical-align: top;\n",
       "    }\n",
       "\n",
       "    .dataframe thead th {\n",
       "        text-align: right;\n",
       "    }\n",
       "</style>\n",
       "<table border=\"1\" class=\"dataframe\">\n",
       "  <thead>\n",
       "    <tr style=\"text-align: right;\">\n",
       "      <th></th>\n",
       "      <th>0</th>\n",
       "      <th>1</th>\n",
       "      <th>2</th>\n",
       "    </tr>\n",
       "  </thead>\n",
       "  <tbody>\n",
       "    <tr>\n",
       "      <th>0</th>\n",
       "      <td>Manhattan</td>\n",
       "      <td>Midtown</td>\n",
       "      <td>None</td>\n",
       "    </tr>\n",
       "    <tr>\n",
       "      <th>1</th>\n",
       "      <td>Brooklyn</td>\n",
       "      <td>Clinton Hill</td>\n",
       "      <td>None</td>\n",
       "    </tr>\n",
       "    <tr>\n",
       "      <th>2</th>\n",
       "      <td>Manhattan</td>\n",
       "      <td>Murray Hill</td>\n",
       "      <td>None</td>\n",
       "    </tr>\n",
       "    <tr>\n",
       "      <th>3</th>\n",
       "      <td>Manhattan</td>\n",
       "      <td>Hell's Kitchen</td>\n",
       "      <td>None</td>\n",
       "    </tr>\n",
       "    <tr>\n",
       "      <th>4</th>\n",
       "      <td>Manhattan</td>\n",
       "      <td>Chinatown</td>\n",
       "      <td>None</td>\n",
       "    </tr>\n",
       "    <tr>\n",
       "      <th>...</th>\n",
       "      <td>...</td>\n",
       "      <td>...</td>\n",
       "      <td>...</td>\n",
       "    </tr>\n",
       "    <tr>\n",
       "      <th>24994</th>\n",
       "      <td>Queens</td>\n",
       "      <td>Jamaica</td>\n",
       "      <td>None</td>\n",
       "    </tr>\n",
       "    <tr>\n",
       "      <th>24995</th>\n",
       "      <td>Queens</td>\n",
       "      <td>Long Island City</td>\n",
       "      <td>None</td>\n",
       "    </tr>\n",
       "    <tr>\n",
       "      <th>24996</th>\n",
       "      <td>Brooklyn</td>\n",
       "      <td>Borough Park</td>\n",
       "      <td>None</td>\n",
       "    </tr>\n",
       "    <tr>\n",
       "      <th>24997</th>\n",
       "      <td>Brooklyn</td>\n",
       "      <td>Bushwick</td>\n",
       "      <td>None</td>\n",
       "    </tr>\n",
       "    <tr>\n",
       "      <th>24998</th>\n",
       "      <td>Brooklyn</td>\n",
       "      <td>Williamsburg</td>\n",
       "      <td>None</td>\n",
       "    </tr>\n",
       "  </tbody>\n",
       "</table>\n",
       "<p>24999 rows × 3 columns</p>\n",
       "</div>"
      ],
      "text/plain": [
       "               0                  1     2\n",
       "0      Manhattan            Midtown  None\n",
       "1       Brooklyn       Clinton Hill  None\n",
       "2      Manhattan        Murray Hill  None\n",
       "3      Manhattan     Hell's Kitchen  None\n",
       "4      Manhattan          Chinatown  None\n",
       "...          ...                ...   ...\n",
       "24994     Queens            Jamaica  None\n",
       "24995     Queens   Long Island City  None\n",
       "24996   Brooklyn       Borough Park  None\n",
       "24997   Brooklyn           Bushwick  None\n",
       "24998   Brooklyn       Williamsburg  None\n",
       "\n",
       "[24999 rows x 3 columns]"
      ]
     },
     "execution_count": 56,
     "metadata": {},
     "output_type": "execute_result"
    }
   ],
   "source": [
    "inn['neighborhood_full'].str.split(',', expand=True)"
   ]
  },
  {
   "cell_type": "code",
   "execution_count": 57,
   "metadata": {},
   "outputs": [
    {
     "data": {
      "text/html": [
       "<div>\n",
       "<style scoped>\n",
       "    .dataframe tbody tr th:only-of-type {\n",
       "        vertical-align: middle;\n",
       "    }\n",
       "\n",
       "    .dataframe tbody tr th {\n",
       "        vertical-align: top;\n",
       "    }\n",
       "\n",
       "    .dataframe thead th {\n",
       "        text-align: right;\n",
       "    }\n",
       "</style>\n",
       "<table border=\"1\" class=\"dataframe\">\n",
       "  <thead>\n",
       "    <tr style=\"text-align: right;\">\n",
       "      <th></th>\n",
       "      <th>listing_id</th>\n",
       "      <th>description</th>\n",
       "      <th>room_type</th>\n",
       "      <th>price</th>\n",
       "      <th>neighborhood_full</th>\n",
       "      <th>host_name</th>\n",
       "      <th>last_review</th>\n",
       "      <th>area</th>\n",
       "      <th>sub_area</th>\n",
       "    </tr>\n",
       "  </thead>\n",
       "  <tbody>\n",
       "    <tr>\n",
       "      <th>0</th>\n",
       "      <td>2595</td>\n",
       "      <td>Skylit Midtown Castle</td>\n",
       "      <td>Entire Home/Apt</td>\n",
       "      <td>225</td>\n",
       "      <td>Manhattan, Midtown</td>\n",
       "      <td>Jennifer</td>\n",
       "      <td>21/05/2021</td>\n",
       "      <td>Manhattan</td>\n",
       "      <td>Midtown</td>\n",
       "    </tr>\n",
       "    <tr>\n",
       "      <th>1</th>\n",
       "      <td>3831</td>\n",
       "      <td>Cozy Entire Floor of Brownstone</td>\n",
       "      <td>Entire Home/Apt</td>\n",
       "      <td>89</td>\n",
       "      <td>Brooklyn, Clinton Hill</td>\n",
       "      <td>LisaRoxanne</td>\n",
       "      <td>21/07/2005</td>\n",
       "      <td>Brooklyn</td>\n",
       "      <td>Clinton Hill</td>\n",
       "    </tr>\n",
       "    <tr>\n",
       "      <th>2</th>\n",
       "      <td>5099</td>\n",
       "      <td>Large Cozy 1 BR Apartment In Midtown East</td>\n",
       "      <td>Entire Home/Apt</td>\n",
       "      <td>200</td>\n",
       "      <td>Manhattan, Murray Hill</td>\n",
       "      <td>Chris</td>\n",
       "      <td>21/06/2022</td>\n",
       "      <td>Manhattan</td>\n",
       "      <td>Murray Hill</td>\n",
       "    </tr>\n",
       "    <tr>\n",
       "      <th>3</th>\n",
       "      <td>5178</td>\n",
       "      <td>Large Furnished Room Near B'way</td>\n",
       "      <td>Private Room</td>\n",
       "      <td>79</td>\n",
       "      <td>Manhattan, Hell's Kitchen</td>\n",
       "      <td>Shunichi</td>\n",
       "      <td>21/06/2024</td>\n",
       "      <td>Manhattan</td>\n",
       "      <td>Hell's Kitchen</td>\n",
       "    </tr>\n",
       "    <tr>\n",
       "      <th>4</th>\n",
       "      <td>5238</td>\n",
       "      <td>Cute &amp; Cozy Lower East Side 1 bdrm</td>\n",
       "      <td>Entire Home/Apt</td>\n",
       "      <td>150</td>\n",
       "      <td>Manhattan, Chinatown</td>\n",
       "      <td>Ben</td>\n",
       "      <td>21/06/2009</td>\n",
       "      <td>Manhattan</td>\n",
       "      <td>Chinatown</td>\n",
       "    </tr>\n",
       "    <tr>\n",
       "      <th>...</th>\n",
       "      <td>...</td>\n",
       "      <td>...</td>\n",
       "      <td>...</td>\n",
       "      <td>...</td>\n",
       "      <td>...</td>\n",
       "      <td>...</td>\n",
       "      <td>...</td>\n",
       "      <td>...</td>\n",
       "      <td>...</td>\n",
       "    </tr>\n",
       "    <tr>\n",
       "      <th>24994</th>\n",
       "      <td>35865346</td>\n",
       "      <td>Spacious Modern Apt. Near JFK Airport and Trains</td>\n",
       "      <td>Entire Home/Apt</td>\n",
       "      <td>129</td>\n",
       "      <td>Queens, Jamaica</td>\n",
       "      <td>Sharon</td>\n",
       "      <td>21/07/2007</td>\n",
       "      <td>Queens</td>\n",
       "      <td>Jamaica</td>\n",
       "    </tr>\n",
       "    <tr>\n",
       "      <th>24995</th>\n",
       "      <td>35865788</td>\n",
       "      <td>Brand new 1Bedroom apartment with private terrace</td>\n",
       "      <td>Entire Home/Apt</td>\n",
       "      <td>175</td>\n",
       "      <td>Queens, Long Island City</td>\n",
       "      <td>Kasper</td>\n",
       "      <td>21/06/2023</td>\n",
       "      <td>Queens</td>\n",
       "      <td>Long Island City</td>\n",
       "    </tr>\n",
       "    <tr>\n",
       "      <th>24996</th>\n",
       "      <td>35866165</td>\n",
       "      <td>A Place to stay in Brooklyn</td>\n",
       "      <td>Entire Home/Apt</td>\n",
       "      <td>150</td>\n",
       "      <td>Brooklyn, Borough Park</td>\n",
       "      <td>Mord</td>\n",
       "      <td>21/07/2001</td>\n",
       "      <td>Brooklyn</td>\n",
       "      <td>Borough Park</td>\n",
       "    </tr>\n",
       "    <tr>\n",
       "      <th>24997</th>\n",
       "      <td>35867917</td>\n",
       "      <td>Updated Studio apartment, clean and fresh</td>\n",
       "      <td>Entire Home/Apt</td>\n",
       "      <td>99</td>\n",
       "      <td>Brooklyn, Bushwick</td>\n",
       "      <td>Sadie</td>\n",
       "      <td>21/07/2005</td>\n",
       "      <td>Brooklyn</td>\n",
       "      <td>Bushwick</td>\n",
       "    </tr>\n",
       "    <tr>\n",
       "      <th>24998</th>\n",
       "      <td>35867923</td>\n",
       "      <td>Room in a lovely loft with waterfront view</td>\n",
       "      <td>Private Room</td>\n",
       "      <td>80</td>\n",
       "      <td>Brooklyn, Williamsburg</td>\n",
       "      <td>Mailys</td>\n",
       "      <td>21/06/2024</td>\n",
       "      <td>Brooklyn</td>\n",
       "      <td>Williamsburg</td>\n",
       "    </tr>\n",
       "  </tbody>\n",
       "</table>\n",
       "<p>24999 rows × 9 columns</p>\n",
       "</div>"
      ],
      "text/plain": [
       "       listing_id                                        description  \\\n",
       "0            2595                              Skylit Midtown Castle   \n",
       "1            3831                    Cozy Entire Floor of Brownstone   \n",
       "2            5099          Large Cozy 1 BR Apartment In Midtown East   \n",
       "3            5178                    Large Furnished Room Near B'way   \n",
       "4            5238                 Cute & Cozy Lower East Side 1 bdrm   \n",
       "...           ...                                                ...   \n",
       "24994    35865346   Spacious Modern Apt. Near JFK Airport and Trains   \n",
       "24995    35865788  Brand new 1Bedroom apartment with private terrace   \n",
       "24996    35866165                        A Place to stay in Brooklyn   \n",
       "24997    35867917          Updated Studio apartment, clean and fresh   \n",
       "24998    35867923         Room in a lovely loft with waterfront view   \n",
       "\n",
       "             room_type  price          neighborhood_full    host_name  \\\n",
       "0      Entire Home/Apt    225         Manhattan, Midtown     Jennifer   \n",
       "1      Entire Home/Apt     89     Brooklyn, Clinton Hill  LisaRoxanne   \n",
       "2      Entire Home/Apt    200     Manhattan, Murray Hill        Chris   \n",
       "3         Private Room     79  Manhattan, Hell's Kitchen     Shunichi   \n",
       "4      Entire Home/Apt    150       Manhattan, Chinatown          Ben   \n",
       "...                ...    ...                        ...          ...   \n",
       "24994  Entire Home/Apt    129            Queens, Jamaica       Sharon   \n",
       "24995  Entire Home/Apt    175   Queens, Long Island City       Kasper   \n",
       "24996  Entire Home/Apt    150     Brooklyn, Borough Park         Mord   \n",
       "24997  Entire Home/Apt     99         Brooklyn, Bushwick        Sadie   \n",
       "24998     Private Room     80     Brooklyn, Williamsburg       Mailys   \n",
       "\n",
       "      last_review       area          sub_area  \n",
       "0      21/05/2021  Manhattan           Midtown  \n",
       "1      21/07/2005   Brooklyn      Clinton Hill  \n",
       "2      21/06/2022  Manhattan       Murray Hill  \n",
       "3      21/06/2024  Manhattan    Hell's Kitchen  \n",
       "4      21/06/2009  Manhattan         Chinatown  \n",
       "...           ...        ...               ...  \n",
       "24994  21/07/2007     Queens           Jamaica  \n",
       "24995  21/06/2023     Queens  Long Island City  \n",
       "24996  21/07/2001   Brooklyn      Borough Park  \n",
       "24997  21/07/2005   Brooklyn          Bushwick  \n",
       "24998  21/06/2024   Brooklyn      Williamsburg  \n",
       "\n",
       "[24999 rows x 9 columns]"
      ]
     },
     "execution_count": 57,
     "metadata": {},
     "output_type": "execute_result"
    }
   ],
   "source": [
    "inn[['area','sub_area','none']] = inn['neighborhood_full'].str.split(', ', expand=True)\n",
    "inn = inn.drop(columns=['none']) #Menghapus kolom 'none'\n",
    "inn"
   ]
  },
  {
   "cell_type": "markdown",
   "metadata": {},
   "source": [
    "**Mengatur dan menyesuaikan waktu di last_review**"
   ]
  },
  {
   "cell_type": "code",
   "execution_count": 58,
   "metadata": {},
   "outputs": [],
   "source": [
    "inn['last_review'] ='20' + inn['last_review'].astype(str) #menambahkan '20' di awal kata\n",
    "inn['last_review'] = inn['last_review'].str.split('/').apply(lambda x: '/'.join(x[::-1])) #membalik urutan\n",
    "inn['last_review'] = inn['last_review'].str[2:] #menghapus 2 karakter pertama yaitu '20'"
   ]
  },
  {
   "cell_type": "code",
   "execution_count": 59,
   "metadata": {},
   "outputs": [
    {
     "data": {
      "text/html": [
       "<div>\n",
       "<style scoped>\n",
       "    .dataframe tbody tr th:only-of-type {\n",
       "        vertical-align: middle;\n",
       "    }\n",
       "\n",
       "    .dataframe tbody tr th {\n",
       "        vertical-align: top;\n",
       "    }\n",
       "\n",
       "    .dataframe thead th {\n",
       "        text-align: right;\n",
       "    }\n",
       "</style>\n",
       "<table border=\"1\" class=\"dataframe\">\n",
       "  <thead>\n",
       "    <tr style=\"text-align: right;\">\n",
       "      <th></th>\n",
       "      <th>listing_id</th>\n",
       "      <th>description</th>\n",
       "      <th>room_type</th>\n",
       "      <th>price</th>\n",
       "      <th>neighborhood_full</th>\n",
       "      <th>host_name</th>\n",
       "      <th>last_review</th>\n",
       "      <th>area</th>\n",
       "      <th>sub_area</th>\n",
       "    </tr>\n",
       "  </thead>\n",
       "  <tbody>\n",
       "    <tr>\n",
       "      <th>0</th>\n",
       "      <td>2595</td>\n",
       "      <td>Skylit Midtown Castle</td>\n",
       "      <td>Entire Home/Apt</td>\n",
       "      <td>225</td>\n",
       "      <td>Manhattan, Midtown</td>\n",
       "      <td>Jennifer</td>\n",
       "      <td>21/05/2021</td>\n",
       "      <td>Manhattan</td>\n",
       "      <td>Midtown</td>\n",
       "    </tr>\n",
       "    <tr>\n",
       "      <th>1</th>\n",
       "      <td>3831</td>\n",
       "      <td>Cozy Entire Floor of Brownstone</td>\n",
       "      <td>Entire Home/Apt</td>\n",
       "      <td>89</td>\n",
       "      <td>Brooklyn, Clinton Hill</td>\n",
       "      <td>LisaRoxanne</td>\n",
       "      <td>05/07/2021</td>\n",
       "      <td>Brooklyn</td>\n",
       "      <td>Clinton Hill</td>\n",
       "    </tr>\n",
       "    <tr>\n",
       "      <th>2</th>\n",
       "      <td>5099</td>\n",
       "      <td>Large Cozy 1 BR Apartment In Midtown East</td>\n",
       "      <td>Entire Home/Apt</td>\n",
       "      <td>200</td>\n",
       "      <td>Manhattan, Murray Hill</td>\n",
       "      <td>Chris</td>\n",
       "      <td>22/06/2021</td>\n",
       "      <td>Manhattan</td>\n",
       "      <td>Murray Hill</td>\n",
       "    </tr>\n",
       "    <tr>\n",
       "      <th>3</th>\n",
       "      <td>5178</td>\n",
       "      <td>Large Furnished Room Near B'way</td>\n",
       "      <td>Private Room</td>\n",
       "      <td>79</td>\n",
       "      <td>Manhattan, Hell's Kitchen</td>\n",
       "      <td>Shunichi</td>\n",
       "      <td>24/06/2021</td>\n",
       "      <td>Manhattan</td>\n",
       "      <td>Hell's Kitchen</td>\n",
       "    </tr>\n",
       "    <tr>\n",
       "      <th>4</th>\n",
       "      <td>5238</td>\n",
       "      <td>Cute &amp; Cozy Lower East Side 1 bdrm</td>\n",
       "      <td>Entire Home/Apt</td>\n",
       "      <td>150</td>\n",
       "      <td>Manhattan, Chinatown</td>\n",
       "      <td>Ben</td>\n",
       "      <td>09/06/2021</td>\n",
       "      <td>Manhattan</td>\n",
       "      <td>Chinatown</td>\n",
       "    </tr>\n",
       "    <tr>\n",
       "      <th>...</th>\n",
       "      <td>...</td>\n",
       "      <td>...</td>\n",
       "      <td>...</td>\n",
       "      <td>...</td>\n",
       "      <td>...</td>\n",
       "      <td>...</td>\n",
       "      <td>...</td>\n",
       "      <td>...</td>\n",
       "      <td>...</td>\n",
       "    </tr>\n",
       "    <tr>\n",
       "      <th>24994</th>\n",
       "      <td>35865346</td>\n",
       "      <td>Spacious Modern Apt. Near JFK Airport and Trains</td>\n",
       "      <td>Entire Home/Apt</td>\n",
       "      <td>129</td>\n",
       "      <td>Queens, Jamaica</td>\n",
       "      <td>Sharon</td>\n",
       "      <td>07/07/2021</td>\n",
       "      <td>Queens</td>\n",
       "      <td>Jamaica</td>\n",
       "    </tr>\n",
       "    <tr>\n",
       "      <th>24995</th>\n",
       "      <td>35865788</td>\n",
       "      <td>Brand new 1Bedroom apartment with private terrace</td>\n",
       "      <td>Entire Home/Apt</td>\n",
       "      <td>175</td>\n",
       "      <td>Queens, Long Island City</td>\n",
       "      <td>Kasper</td>\n",
       "      <td>23/06/2021</td>\n",
       "      <td>Queens</td>\n",
       "      <td>Long Island City</td>\n",
       "    </tr>\n",
       "    <tr>\n",
       "      <th>24996</th>\n",
       "      <td>35866165</td>\n",
       "      <td>A Place to stay in Brooklyn</td>\n",
       "      <td>Entire Home/Apt</td>\n",
       "      <td>150</td>\n",
       "      <td>Brooklyn, Borough Park</td>\n",
       "      <td>Mord</td>\n",
       "      <td>01/07/2021</td>\n",
       "      <td>Brooklyn</td>\n",
       "      <td>Borough Park</td>\n",
       "    </tr>\n",
       "    <tr>\n",
       "      <th>24997</th>\n",
       "      <td>35867917</td>\n",
       "      <td>Updated Studio apartment, clean and fresh</td>\n",
       "      <td>Entire Home/Apt</td>\n",
       "      <td>99</td>\n",
       "      <td>Brooklyn, Bushwick</td>\n",
       "      <td>Sadie</td>\n",
       "      <td>05/07/2021</td>\n",
       "      <td>Brooklyn</td>\n",
       "      <td>Bushwick</td>\n",
       "    </tr>\n",
       "    <tr>\n",
       "      <th>24998</th>\n",
       "      <td>35867923</td>\n",
       "      <td>Room in a lovely loft with waterfront view</td>\n",
       "      <td>Private Room</td>\n",
       "      <td>80</td>\n",
       "      <td>Brooklyn, Williamsburg</td>\n",
       "      <td>Mailys</td>\n",
       "      <td>24/06/2021</td>\n",
       "      <td>Brooklyn</td>\n",
       "      <td>Williamsburg</td>\n",
       "    </tr>\n",
       "  </tbody>\n",
       "</table>\n",
       "<p>24999 rows × 9 columns</p>\n",
       "</div>"
      ],
      "text/plain": [
       "       listing_id                                        description  \\\n",
       "0            2595                              Skylit Midtown Castle   \n",
       "1            3831                    Cozy Entire Floor of Brownstone   \n",
       "2            5099          Large Cozy 1 BR Apartment In Midtown East   \n",
       "3            5178                    Large Furnished Room Near B'way   \n",
       "4            5238                 Cute & Cozy Lower East Side 1 bdrm   \n",
       "...           ...                                                ...   \n",
       "24994    35865346   Spacious Modern Apt. Near JFK Airport and Trains   \n",
       "24995    35865788  Brand new 1Bedroom apartment with private terrace   \n",
       "24996    35866165                        A Place to stay in Brooklyn   \n",
       "24997    35867917          Updated Studio apartment, clean and fresh   \n",
       "24998    35867923         Room in a lovely loft with waterfront view   \n",
       "\n",
       "             room_type  price          neighborhood_full    host_name  \\\n",
       "0      Entire Home/Apt    225         Manhattan, Midtown     Jennifer   \n",
       "1      Entire Home/Apt     89     Brooklyn, Clinton Hill  LisaRoxanne   \n",
       "2      Entire Home/Apt    200     Manhattan, Murray Hill        Chris   \n",
       "3         Private Room     79  Manhattan, Hell's Kitchen     Shunichi   \n",
       "4      Entire Home/Apt    150       Manhattan, Chinatown          Ben   \n",
       "...                ...    ...                        ...          ...   \n",
       "24994  Entire Home/Apt    129            Queens, Jamaica       Sharon   \n",
       "24995  Entire Home/Apt    175   Queens, Long Island City       Kasper   \n",
       "24996  Entire Home/Apt    150     Brooklyn, Borough Park         Mord   \n",
       "24997  Entire Home/Apt     99         Brooklyn, Bushwick        Sadie   \n",
       "24998     Private Room     80     Brooklyn, Williamsburg       Mailys   \n",
       "\n",
       "      last_review       area          sub_area  \n",
       "0      21/05/2021  Manhattan           Midtown  \n",
       "1      05/07/2021   Brooklyn      Clinton Hill  \n",
       "2      22/06/2021  Manhattan       Murray Hill  \n",
       "3      24/06/2021  Manhattan    Hell's Kitchen  \n",
       "4      09/06/2021  Manhattan         Chinatown  \n",
       "...           ...        ...               ...  \n",
       "24994  07/07/2021     Queens           Jamaica  \n",
       "24995  23/06/2021     Queens  Long Island City  \n",
       "24996  01/07/2021   Brooklyn      Borough Park  \n",
       "24997  05/07/2021   Brooklyn          Bushwick  \n",
       "24998  24/06/2021   Brooklyn      Williamsburg  \n",
       "\n",
       "[24999 rows x 9 columns]"
      ]
     },
     "execution_count": 59,
     "metadata": {},
     "output_type": "execute_result"
    }
   ],
   "source": [
    "inn"
   ]
  },
  {
   "cell_type": "code",
   "execution_count": 60,
   "metadata": {},
   "outputs": [
    {
     "data": {
      "text/plain": [
       "listing_id            int64\n",
       "description          object\n",
       "room_type            object\n",
       "price                 int32\n",
       "neighborhood_full    object\n",
       "host_name            object\n",
       "last_review          object\n",
       "area                 object\n",
       "sub_area             object\n",
       "dtype: object"
      ]
     },
     "execution_count": 60,
     "metadata": {},
     "output_type": "execute_result"
    }
   ],
   "source": [
    "inn['last_review'] = pd.to_datetime(inn['last_review']).dt.date\n",
    "inn.dtypes"
   ]
  },
  {
   "cell_type": "code",
   "execution_count": 61,
   "metadata": {},
   "outputs": [
    {
     "data": {
      "text/html": [
       "<div>\n",
       "<style scoped>\n",
       "    .dataframe tbody tr th:only-of-type {\n",
       "        vertical-align: middle;\n",
       "    }\n",
       "\n",
       "    .dataframe tbody tr th {\n",
       "        vertical-align: top;\n",
       "    }\n",
       "\n",
       "    .dataframe thead th {\n",
       "        text-align: right;\n",
       "    }\n",
       "</style>\n",
       "<table border=\"1\" class=\"dataframe\">\n",
       "  <thead>\n",
       "    <tr style=\"text-align: right;\">\n",
       "      <th></th>\n",
       "      <th>listing_id</th>\n",
       "      <th>description</th>\n",
       "      <th>room_type</th>\n",
       "      <th>price</th>\n",
       "      <th>neighborhood_full</th>\n",
       "      <th>host_name</th>\n",
       "      <th>last_review</th>\n",
       "      <th>area</th>\n",
       "      <th>sub_area</th>\n",
       "    </tr>\n",
       "  </thead>\n",
       "  <tbody>\n",
       "    <tr>\n",
       "      <th>0</th>\n",
       "      <td>2595</td>\n",
       "      <td>Skylit Midtown Castle</td>\n",
       "      <td>Entire Home/Apt</td>\n",
       "      <td>225</td>\n",
       "      <td>Manhattan, Midtown</td>\n",
       "      <td>Jennifer</td>\n",
       "      <td>2021-05-21</td>\n",
       "      <td>Manhattan</td>\n",
       "      <td>Midtown</td>\n",
       "    </tr>\n",
       "    <tr>\n",
       "      <th>1</th>\n",
       "      <td>3831</td>\n",
       "      <td>Cozy Entire Floor of Brownstone</td>\n",
       "      <td>Entire Home/Apt</td>\n",
       "      <td>89</td>\n",
       "      <td>Brooklyn, Clinton Hill</td>\n",
       "      <td>LisaRoxanne</td>\n",
       "      <td>2021-05-07</td>\n",
       "      <td>Brooklyn</td>\n",
       "      <td>Clinton Hill</td>\n",
       "    </tr>\n",
       "    <tr>\n",
       "      <th>2</th>\n",
       "      <td>5099</td>\n",
       "      <td>Large Cozy 1 BR Apartment In Midtown East</td>\n",
       "      <td>Entire Home/Apt</td>\n",
       "      <td>200</td>\n",
       "      <td>Manhattan, Murray Hill</td>\n",
       "      <td>Chris</td>\n",
       "      <td>2021-06-22</td>\n",
       "      <td>Manhattan</td>\n",
       "      <td>Murray Hill</td>\n",
       "    </tr>\n",
       "    <tr>\n",
       "      <th>3</th>\n",
       "      <td>5178</td>\n",
       "      <td>Large Furnished Room Near B'way</td>\n",
       "      <td>Private Room</td>\n",
       "      <td>79</td>\n",
       "      <td>Manhattan, Hell's Kitchen</td>\n",
       "      <td>Shunichi</td>\n",
       "      <td>2021-06-24</td>\n",
       "      <td>Manhattan</td>\n",
       "      <td>Hell's Kitchen</td>\n",
       "    </tr>\n",
       "    <tr>\n",
       "      <th>4</th>\n",
       "      <td>5238</td>\n",
       "      <td>Cute &amp; Cozy Lower East Side 1 bdrm</td>\n",
       "      <td>Entire Home/Apt</td>\n",
       "      <td>150</td>\n",
       "      <td>Manhattan, Chinatown</td>\n",
       "      <td>Ben</td>\n",
       "      <td>2021-09-06</td>\n",
       "      <td>Manhattan</td>\n",
       "      <td>Chinatown</td>\n",
       "    </tr>\n",
       "  </tbody>\n",
       "</table>\n",
       "</div>"
      ],
      "text/plain": [
       "   listing_id                                description        room_type  \\\n",
       "0        2595                      Skylit Midtown Castle  Entire Home/Apt   \n",
       "1        3831            Cozy Entire Floor of Brownstone  Entire Home/Apt   \n",
       "2        5099  Large Cozy 1 BR Apartment In Midtown East  Entire Home/Apt   \n",
       "3        5178            Large Furnished Room Near B'way     Private Room   \n",
       "4        5238         Cute & Cozy Lower East Side 1 bdrm  Entire Home/Apt   \n",
       "\n",
       "   price          neighborhood_full    host_name last_review       area  \\\n",
       "0    225         Manhattan, Midtown     Jennifer  2021-05-21  Manhattan   \n",
       "1     89     Brooklyn, Clinton Hill  LisaRoxanne  2021-05-07   Brooklyn   \n",
       "2    200     Manhattan, Murray Hill        Chris  2021-06-22  Manhattan   \n",
       "3     79  Manhattan, Hell's Kitchen     Shunichi  2021-06-24  Manhattan   \n",
       "4    150       Manhattan, Chinatown          Ben  2021-09-06  Manhattan   \n",
       "\n",
       "         sub_area  \n",
       "0         Midtown  \n",
       "1    Clinton Hill  \n",
       "2     Murray Hill  \n",
       "3  Hell's Kitchen  \n",
       "4       Chinatown  "
      ]
     },
     "execution_count": 61,
     "metadata": {},
     "output_type": "execute_result"
    }
   ],
   "source": [
    "inn.head()"
   ]
  },
  {
   "cell_type": "code",
   "execution_count": 62,
   "metadata": {},
   "outputs": [
    {
     "data": {
      "text/html": [
       "<div>\n",
       "<style scoped>\n",
       "    .dataframe tbody tr th:only-of-type {\n",
       "        vertical-align: middle;\n",
       "    }\n",
       "\n",
       "    .dataframe tbody tr th {\n",
       "        vertical-align: top;\n",
       "    }\n",
       "\n",
       "    .dataframe thead th {\n",
       "        text-align: right;\n",
       "    }\n",
       "</style>\n",
       "<table border=\"1\" class=\"dataframe\">\n",
       "  <thead>\n",
       "    <tr style=\"text-align: right;\">\n",
       "      <th></th>\n",
       "      <th>listing_id</th>\n",
       "      <th>description</th>\n",
       "      <th>room_type</th>\n",
       "      <th>price</th>\n",
       "      <th>neighborhood_full</th>\n",
       "      <th>host_name</th>\n",
       "      <th>last_review</th>\n",
       "      <th>area</th>\n",
       "      <th>sub_area</th>\n",
       "    </tr>\n",
       "  </thead>\n",
       "  <tbody>\n",
       "    <tr>\n",
       "      <th>10877</th>\n",
       "      <td>20364240</td>\n",
       "      <td>Sunny lifestyle room</td>\n",
       "      <td>Private Room</td>\n",
       "      <td>54</td>\n",
       "      <td>Brooklyn, Crown Heights</td>\n",
       "      <td>Wesly/Jessica</td>\n",
       "      <td>2022-06-23</td>\n",
       "      <td>Brooklyn</td>\n",
       "      <td>Crown Heights</td>\n",
       "    </tr>\n",
       "    <tr>\n",
       "      <th>10912</th>\n",
       "      <td>20433620</td>\n",
       "      <td>Time square/ Bryant park</td>\n",
       "      <td>Entire Home/Apt</td>\n",
       "      <td>170</td>\n",
       "      <td>Manhattan, Midtown</td>\n",
       "      <td>Jonathan</td>\n",
       "      <td>2022-06-23</td>\n",
       "      <td>Manhattan</td>\n",
       "      <td>Midtown</td>\n",
       "    </tr>\n",
       "  </tbody>\n",
       "</table>\n",
       "</div>"
      ],
      "text/plain": [
       "       listing_id               description        room_type  price  \\\n",
       "10877    20364240      Sunny lifestyle room     Private Room     54   \n",
       "10912    20433620  Time square/ Bryant park  Entire Home/Apt    170   \n",
       "\n",
       "             neighborhood_full      host_name last_review       area  \\\n",
       "10877  Brooklyn, Crown Heights  Wesly/Jessica  2022-06-23   Brooklyn   \n",
       "10912       Manhattan, Midtown       Jonathan  2022-06-23  Manhattan   \n",
       "\n",
       "            sub_area  \n",
       "10877  Crown Heights  \n",
       "10912        Midtown  "
      ]
     },
     "execution_count": 62,
     "metadata": {},
     "output_type": "execute_result"
    }
   ],
   "source": [
    "today = dt.date.today()\n",
    "inn[inn['last_review'] > today] #data dengan tanggal yang melebihi hari ini (ga make sense)"
   ]
  },
  {
   "cell_type": "code",
   "execution_count": 63,
   "metadata": {},
   "outputs": [],
   "source": [
    "inn.loc[inn['last_review'] > today, 'last_review'] = today"
   ]
  },
  {
   "cell_type": "code",
   "execution_count": 64,
   "metadata": {},
   "outputs": [
    {
     "data": {
      "text/html": [
       "<div>\n",
       "<style scoped>\n",
       "    .dataframe tbody tr th:only-of-type {\n",
       "        vertical-align: middle;\n",
       "    }\n",
       "\n",
       "    .dataframe tbody tr th {\n",
       "        vertical-align: top;\n",
       "    }\n",
       "\n",
       "    .dataframe thead th {\n",
       "        text-align: right;\n",
       "    }\n",
       "</style>\n",
       "<table border=\"1\" class=\"dataframe\">\n",
       "  <thead>\n",
       "    <tr style=\"text-align: right;\">\n",
       "      <th></th>\n",
       "      <th>listing_id</th>\n",
       "      <th>description</th>\n",
       "      <th>room_type</th>\n",
       "      <th>price</th>\n",
       "      <th>neighborhood_full</th>\n",
       "      <th>host_name</th>\n",
       "      <th>last_review</th>\n",
       "      <th>area</th>\n",
       "      <th>sub_area</th>\n",
       "    </tr>\n",
       "  </thead>\n",
       "  <tbody>\n",
       "  </tbody>\n",
       "</table>\n",
       "</div>"
      ],
      "text/plain": [
       "Empty DataFrame\n",
       "Columns: [listing_id, description, room_type, price, neighborhood_full, host_name, last_review, area, sub_area]\n",
       "Index: []"
      ]
     },
     "execution_count": 64,
     "metadata": {},
     "output_type": "execute_result"
    }
   ],
   "source": [
    "inn[inn['last_review'] > today]"
   ]
  },
  {
   "cell_type": "markdown",
   "metadata": {},
   "source": [
    "**Key Value**"
   ]
  },
  {
   "cell_type": "code",
   "execution_count": 65,
   "metadata": {},
   "outputs": [
    {
     "name": "stdout",
     "output_type": "stream",
     "text": [
      "<class 'pandas.core.frame.DataFrame'>\n",
      "RangeIndex: 24999 entries, 0 to 24998\n",
      "Data columns (total 9 columns):\n",
      " #   Column             Non-Null Count  Dtype \n",
      "---  ------             --------------  ----- \n",
      " 0   listing_id         24999 non-null  int64 \n",
      " 1   description        24999 non-null  object\n",
      " 2   room_type          24999 non-null  object\n",
      " 3   price              24999 non-null  int32 \n",
      " 4   neighborhood_full  24999 non-null  object\n",
      " 5   host_name          24999 non-null  object\n",
      " 6   last_review        24999 non-null  object\n",
      " 7   area               24999 non-null  object\n",
      " 8   sub_area           24999 non-null  object\n",
      "dtypes: int32(1), int64(1), object(7)\n",
      "memory usage: 1.6+ MB\n"
     ]
    }
   ],
   "source": [
    "inn.info()"
   ]
  },
  {
   "cell_type": "code",
   "execution_count": 66,
   "metadata": {},
   "outputs": [
    {
     "data": {
      "text/plain": [
       "listing_id           0\n",
       "description          0\n",
       "room_type            0\n",
       "price                0\n",
       "neighborhood_full    0\n",
       "host_name            0\n",
       "last_review          0\n",
       "area                 0\n",
       "sub_area             0\n",
       "dtype: int64"
      ]
     },
     "execution_count": 66,
     "metadata": {},
     "output_type": "execute_result"
    }
   ],
   "source": [
    "inn.isna().sum()"
   ]
  },
  {
   "cell_type": "code",
   "execution_count": 67,
   "metadata": {},
   "outputs": [
    {
     "data": {
      "text/html": [
       "<div>\n",
       "<style scoped>\n",
       "    .dataframe tbody tr th:only-of-type {\n",
       "        vertical-align: middle;\n",
       "    }\n",
       "\n",
       "    .dataframe tbody tr th {\n",
       "        vertical-align: top;\n",
       "    }\n",
       "\n",
       "    .dataframe thead th {\n",
       "        text-align: right;\n",
       "    }\n",
       "</style>\n",
       "<table border=\"1\" class=\"dataframe\">\n",
       "  <thead>\n",
       "    <tr style=\"text-align: right;\">\n",
       "      <th></th>\n",
       "      <th>listing_id</th>\n",
       "      <th>description</th>\n",
       "      <th>room_type</th>\n",
       "      <th>price</th>\n",
       "      <th>neighborhood_full</th>\n",
       "      <th>host_name</th>\n",
       "      <th>last_review</th>\n",
       "      <th>area</th>\n",
       "      <th>sub_area</th>\n",
       "    </tr>\n",
       "  </thead>\n",
       "  <tbody>\n",
       "  </tbody>\n",
       "</table>\n",
       "</div>"
      ],
      "text/plain": [
       "Empty DataFrame\n",
       "Columns: [listing_id, description, room_type, price, neighborhood_full, host_name, last_review, area, sub_area]\n",
       "Index: []"
      ]
     },
     "execution_count": 67,
     "metadata": {},
     "output_type": "execute_result"
    }
   ],
   "source": [
    "inn[inn.isnull().any(axis=1)]"
   ]
  },
  {
   "cell_type": "code",
   "execution_count": 68,
   "metadata": {},
   "outputs": [
    {
     "data": {
      "text/plain": [
       "217"
      ]
     },
     "execution_count": 68,
     "metadata": {},
     "output_type": "execute_result"
    }
   ],
   "source": [
    "#Jumlah neighborhood\n",
    "inn.neighborhood_full.nunique()"
   ]
  },
  {
   "cell_type": "code",
   "execution_count": 69,
   "metadata": {},
   "outputs": [
    {
     "data": {
      "text/plain": [
       "5"
      ]
     },
     "execution_count": 69,
     "metadata": {},
     "output_type": "execute_result"
    }
   ],
   "source": [
    "#Jumlah area\n",
    "inn.area.nunique()"
   ]
  },
  {
   "cell_type": "code",
   "execution_count": 70,
   "metadata": {},
   "outputs": [
    {
     "data": {
      "text/plain": [
       "array(['Manhattan', 'Brooklyn', 'Queens', 'Staten Island', 'Bronx'],\n",
       "      dtype=object)"
      ]
     },
     "execution_count": 70,
     "metadata": {},
     "output_type": "execute_result"
    }
   ],
   "source": [
    "#detail area\n",
    "inn.area.unique()"
   ]
  },
  {
   "cell_type": "code",
   "execution_count": 71,
   "metadata": {},
   "outputs": [
    {
     "data": {
      "text/plain": [
       "216"
      ]
     },
     "execution_count": 71,
     "metadata": {},
     "output_type": "execute_result"
    }
   ],
   "source": [
    "#jumlah_sub area\n",
    "inn.sub_area.nunique()"
   ]
  },
  {
   "cell_type": "code",
   "execution_count": 72,
   "metadata": {},
   "outputs": [
    {
     "data": {
      "text/plain": [
       "3"
      ]
     },
     "execution_count": 72,
     "metadata": {},
     "output_type": "execute_result"
    }
   ],
   "source": [
    "#jumlah room type\n",
    "inn.room_type.nunique()"
   ]
  },
  {
   "cell_type": "code",
   "execution_count": 73,
   "metadata": {},
   "outputs": [
    {
     "data": {
      "text/plain": [
       "array(['Entire Home/Apt', 'Private Room', 'Shared Room'], dtype=object)"
      ]
     },
     "execution_count": 73,
     "metadata": {},
     "output_type": "execute_result"
    }
   ],
   "source": [
    "#detail roomtype\n",
    "inn.room_type.unique()"
   ]
  },
  {
   "cell_type": "code",
   "execution_count": 74,
   "metadata": {},
   "outputs": [
    {
     "data": {
      "text/plain": [
       "7295"
      ]
     },
     "execution_count": 74,
     "metadata": {},
     "output_type": "execute_result"
    }
   ],
   "source": [
    "#jumlah host_name\n",
    "inn.host_name.nunique()"
   ]
  },
  {
   "cell_type": "markdown",
   "metadata": {},
   "source": [
    "**Mencari harga rata-rata**"
   ]
  },
  {
   "cell_type": "code",
   "execution_count": 75,
   "metadata": {},
   "outputs": [
    {
     "data": {
      "text/html": [
       "<div>\n",
       "<style scoped>\n",
       "    .dataframe tbody tr th:only-of-type {\n",
       "        vertical-align: middle;\n",
       "    }\n",
       "\n",
       "    .dataframe tbody tr th {\n",
       "        vertical-align: top;\n",
       "    }\n",
       "\n",
       "    .dataframe thead th {\n",
       "        text-align: right;\n",
       "    }\n",
       "</style>\n",
       "<table border=\"1\" class=\"dataframe\">\n",
       "  <thead>\n",
       "    <tr style=\"text-align: right;\">\n",
       "      <th></th>\n",
       "      <th>price</th>\n",
       "    </tr>\n",
       "  </thead>\n",
       "  <tbody>\n",
       "    <tr>\n",
       "      <th>mean</th>\n",
       "      <td>141.891516</td>\n",
       "    </tr>\n",
       "    <tr>\n",
       "      <th>median</th>\n",
       "      <td>105.000000</td>\n",
       "    </tr>\n",
       "    <tr>\n",
       "      <th>min</th>\n",
       "      <td>0.000000</td>\n",
       "    </tr>\n",
       "    <tr>\n",
       "      <th>max</th>\n",
       "      <td>7500.000000</td>\n",
       "    </tr>\n",
       "    <tr>\n",
       "      <th>count</th>\n",
       "      <td>24999.000000</td>\n",
       "    </tr>\n",
       "  </tbody>\n",
       "</table>\n",
       "</div>"
      ],
      "text/plain": [
       "               price\n",
       "mean      141.891516\n",
       "median    105.000000\n",
       "min         0.000000\n",
       "max      7500.000000\n",
       "count   24999.000000"
      ]
     },
     "execution_count": 75,
     "metadata": {},
     "output_type": "execute_result"
    }
   ],
   "source": [
    "inn.agg({'price': ['mean', 'median', 'min', 'max', 'count']})"
   ]
  },
  {
   "cell_type": "code",
   "execution_count": 76,
   "metadata": {},
   "outputs": [
    {
     "data": {
      "image/png": "[encoded data removed]",
      "text/plain": [
       "<Figure size 720x360 with 1 Axes>"
      ]
     },
     "metadata": {
      "needs_background": "light"
     },
     "output_type": "display_data"
    }
   ],
   "source": [
    "plt.figure(figsize=(10,5)) #mencari outlier\n",
    "ax = sns.boxplot(y='price', data=inn).set_title('Price Distribution by Borough')\n",
    "sns.set_theme(style='white')\n",
    "plt.xlabel('Borough')\n",
    "plt.ylabel('Price')\n",
    "plt.show()"
   ]
  },
  {
   "cell_type": "code",
   "execution_count": 77,
   "metadata": {},
   "outputs": [
    {
     "data": {
      "text/plain": [
       "49.0"
      ]
     },
     "execution_count": 77,
     "metadata": {},
     "output_type": "execute_result"
    }
   ],
   "source": [
    "lowq = inn['price'].quantile(0.10)\n",
    "lowq"
   ]
  },
  {
   "cell_type": "code",
   "execution_count": 78,
   "metadata": {},
   "outputs": [
    {
     "data": {
      "text/plain": [
       "250.0"
      ]
     },
     "execution_count": 78,
     "metadata": {},
     "output_type": "execute_result"
    }
   ],
   "source": [
    "# high quantile\n",
    "highq = inn['price'].quantile(0.90)\n",
    "highq"
   ]
  },
  {
   "cell_type": "code",
   "execution_count": 79,
   "metadata": {},
   "outputs": [],
   "source": [
    "inn = inn.drop(inn[inn.price < lowq].index) #menghapus baris dengan nilai di bawah 0.10"
   ]
  },
  {
   "cell_type": "code",
   "execution_count": 80,
   "metadata": {},
   "outputs": [],
   "source": [
    "inn = inn.drop(inn[inn.price > highq].index) # menghapus baris dengan nilai di atas 0.90"
   ]
  },
  {
   "cell_type": "code",
   "execution_count": 81,
   "metadata": {},
   "outputs": [
    {
     "data": {
      "text/html": [
       "<div>\n",
       "<style scoped>\n",
       "    .dataframe tbody tr th:only-of-type {\n",
       "        vertical-align: middle;\n",
       "    }\n",
       "\n",
       "    .dataframe tbody tr th {\n",
       "        vertical-align: top;\n",
       "    }\n",
       "\n",
       "    .dataframe thead th {\n",
       "        text-align: right;\n",
       "    }\n",
       "</style>\n",
       "<table border=\"1\" class=\"dataframe\">\n",
       "  <thead>\n",
       "    <tr style=\"text-align: right;\">\n",
       "      <th></th>\n",
       "      <th>listing_id</th>\n",
       "      <th>description</th>\n",
       "      <th>room_type</th>\n",
       "      <th>price</th>\n",
       "      <th>neighborhood_full</th>\n",
       "      <th>host_name</th>\n",
       "      <th>last_review</th>\n",
       "      <th>area</th>\n",
       "      <th>sub_area</th>\n",
       "    </tr>\n",
       "  </thead>\n",
       "  <tbody>\n",
       "    <tr>\n",
       "      <th>0</th>\n",
       "      <td>2595</td>\n",
       "      <td>Skylit Midtown Castle</td>\n",
       "      <td>Entire Home/Apt</td>\n",
       "      <td>225</td>\n",
       "      <td>Manhattan, Midtown</td>\n",
       "      <td>Jennifer</td>\n",
       "      <td>2021-05-21</td>\n",
       "      <td>Manhattan</td>\n",
       "      <td>Midtown</td>\n",
       "    </tr>\n",
       "    <tr>\n",
       "      <th>1</th>\n",
       "      <td>3831</td>\n",
       "      <td>Cozy Entire Floor of Brownstone</td>\n",
       "      <td>Entire Home/Apt</td>\n",
       "      <td>89</td>\n",
       "      <td>Brooklyn, Clinton Hill</td>\n",
       "      <td>LisaRoxanne</td>\n",
       "      <td>2021-05-07</td>\n",
       "      <td>Brooklyn</td>\n",
       "      <td>Clinton Hill</td>\n",
       "    </tr>\n",
       "    <tr>\n",
       "      <th>2</th>\n",
       "      <td>5099</td>\n",
       "      <td>Large Cozy 1 BR Apartment In Midtown East</td>\n",
       "      <td>Entire Home/Apt</td>\n",
       "      <td>200</td>\n",
       "      <td>Manhattan, Murray Hill</td>\n",
       "      <td>Chris</td>\n",
       "      <td>2021-06-22</td>\n",
       "      <td>Manhattan</td>\n",
       "      <td>Murray Hill</td>\n",
       "    </tr>\n",
       "    <tr>\n",
       "      <th>3</th>\n",
       "      <td>5178</td>\n",
       "      <td>Large Furnished Room Near B'way</td>\n",
       "      <td>Private Room</td>\n",
       "      <td>79</td>\n",
       "      <td>Manhattan, Hell's Kitchen</td>\n",
       "      <td>Shunichi</td>\n",
       "      <td>2021-06-24</td>\n",
       "      <td>Manhattan</td>\n",
       "      <td>Hell's Kitchen</td>\n",
       "    </tr>\n",
       "    <tr>\n",
       "      <th>4</th>\n",
       "      <td>5238</td>\n",
       "      <td>Cute &amp; Cozy Lower East Side 1 bdrm</td>\n",
       "      <td>Entire Home/Apt</td>\n",
       "      <td>150</td>\n",
       "      <td>Manhattan, Chinatown</td>\n",
       "      <td>Ben</td>\n",
       "      <td>2021-09-06</td>\n",
       "      <td>Manhattan</td>\n",
       "      <td>Chinatown</td>\n",
       "    </tr>\n",
       "    <tr>\n",
       "      <th>...</th>\n",
       "      <td>...</td>\n",
       "      <td>...</td>\n",
       "      <td>...</td>\n",
       "      <td>...</td>\n",
       "      <td>...</td>\n",
       "      <td>...</td>\n",
       "      <td>...</td>\n",
       "      <td>...</td>\n",
       "      <td>...</td>\n",
       "    </tr>\n",
       "    <tr>\n",
       "      <th>24994</th>\n",
       "      <td>35865346</td>\n",
       "      <td>Spacious Modern Apt. Near JFK Airport and Trains</td>\n",
       "      <td>Entire Home/Apt</td>\n",
       "      <td>129</td>\n",
       "      <td>Queens, Jamaica</td>\n",
       "      <td>Sharon</td>\n",
       "      <td>2021-07-07</td>\n",
       "      <td>Queens</td>\n",
       "      <td>Jamaica</td>\n",
       "    </tr>\n",
       "    <tr>\n",
       "      <th>24995</th>\n",
       "      <td>35865788</td>\n",
       "      <td>Brand new 1Bedroom apartment with private terrace</td>\n",
       "      <td>Entire Home/Apt</td>\n",
       "      <td>175</td>\n",
       "      <td>Queens, Long Island City</td>\n",
       "      <td>Kasper</td>\n",
       "      <td>2021-06-23</td>\n",
       "      <td>Queens</td>\n",
       "      <td>Long Island City</td>\n",
       "    </tr>\n",
       "    <tr>\n",
       "      <th>24996</th>\n",
       "      <td>35866165</td>\n",
       "      <td>A Place to stay in Brooklyn</td>\n",
       "      <td>Entire Home/Apt</td>\n",
       "      <td>150</td>\n",
       "      <td>Brooklyn, Borough Park</td>\n",
       "      <td>Mord</td>\n",
       "      <td>2021-01-07</td>\n",
       "      <td>Brooklyn</td>\n",
       "      <td>Borough Park</td>\n",
       "    </tr>\n",
       "    <tr>\n",
       "      <th>24997</th>\n",
       "      <td>35867917</td>\n",
       "      <td>Updated Studio apartment, clean and fresh</td>\n",
       "      <td>Entire Home/Apt</td>\n",
       "      <td>99</td>\n",
       "      <td>Brooklyn, Bushwick</td>\n",
       "      <td>Sadie</td>\n",
       "      <td>2021-05-07</td>\n",
       "      <td>Brooklyn</td>\n",
       "      <td>Bushwick</td>\n",
       "    </tr>\n",
       "    <tr>\n",
       "      <th>24998</th>\n",
       "      <td>35867923</td>\n",
       "      <td>Room in a lovely loft with waterfront view</td>\n",
       "      <td>Private Room</td>\n",
       "      <td>80</td>\n",
       "      <td>Brooklyn, Williamsburg</td>\n",
       "      <td>Mailys</td>\n",
       "      <td>2021-06-24</td>\n",
       "      <td>Brooklyn</td>\n",
       "      <td>Williamsburg</td>\n",
       "    </tr>\n",
       "  </tbody>\n",
       "</table>\n",
       "<p>20247 rows × 9 columns</p>\n",
       "</div>"
      ],
      "text/plain": [
       "       listing_id                                        description  \\\n",
       "0            2595                              Skylit Midtown Castle   \n",
       "1            3831                    Cozy Entire Floor of Brownstone   \n",
       "2            5099          Large Cozy 1 BR Apartment In Midtown East   \n",
       "3            5178                    Large Furnished Room Near B'way   \n",
       "4            5238                 Cute & Cozy Lower East Side 1 bdrm   \n",
       "...           ...                                                ...   \n",
       "24994    35865346   Spacious Modern Apt. Near JFK Airport and Trains   \n",
       "24995    35865788  Brand new 1Bedroom apartment with private terrace   \n",
       "24996    35866165                        A Place to stay in Brooklyn   \n",
       "24997    35867917          Updated Studio apartment, clean and fresh   \n",
       "24998    35867923         Room in a lovely loft with waterfront view   \n",
       "\n",
       "             room_type  price          neighborhood_full    host_name  \\\n",
       "0      Entire Home/Apt    225         Manhattan, Midtown     Jennifer   \n",
       "1      Entire Home/Apt     89     Brooklyn, Clinton Hill  LisaRoxanne   \n",
       "2      Entire Home/Apt    200     Manhattan, Murray Hill        Chris   \n",
       "3         Private Room     79  Manhattan, Hell's Kitchen     Shunichi   \n",
       "4      Entire Home/Apt    150       Manhattan, Chinatown          Ben   \n",
       "...                ...    ...                        ...          ...   \n",
       "24994  Entire Home/Apt    129            Queens, Jamaica       Sharon   \n",
       "24995  Entire Home/Apt    175   Queens, Long Island City       Kasper   \n",
       "24996  Entire Home/Apt    150     Brooklyn, Borough Park         Mord   \n",
       "24997  Entire Home/Apt     99         Brooklyn, Bushwick        Sadie   \n",
       "24998     Private Room     80     Brooklyn, Williamsburg       Mailys   \n",
       "\n",
       "      last_review       area          sub_area  \n",
       "0      2021-05-21  Manhattan           Midtown  \n",
       "1      2021-05-07   Brooklyn      Clinton Hill  \n",
       "2      2021-06-22  Manhattan       Murray Hill  \n",
       "3      2021-06-24  Manhattan    Hell's Kitchen  \n",
       "4      2021-09-06  Manhattan         Chinatown  \n",
       "...           ...        ...               ...  \n",
       "24994  2021-07-07     Queens           Jamaica  \n",
       "24995  2021-06-23     Queens  Long Island City  \n",
       "24996  2021-01-07   Brooklyn      Borough Park  \n",
       "24997  2021-05-07   Brooklyn          Bushwick  \n",
       "24998  2021-06-24   Brooklyn      Williamsburg  \n",
       "\n",
       "[20247 rows x 9 columns]"
      ]
     },
     "execution_count": 81,
     "metadata": {},
     "output_type": "execute_result"
    }
   ],
   "source": [
    "inn"
   ]
  },
  {
   "cell_type": "code",
   "execution_count": 82,
   "metadata": {},
   "outputs": [
    {
     "data": {
      "image/png": "[encoded data removed]",
      "text/plain": [
       "<Figure size 720x360 with 1 Axes>"
      ]
     },
     "metadata": {},
     "output_type": "display_data"
    }
   ],
   "source": [
    "import matplotlib.pyplot as plt\n",
    "import seaborn as sns\n",
    "\n",
    "plt.figure(figsize=(10,5))\n",
    "ax = sns.boxplot(y='price', data=inn).set_title('Distribusi Harga')\n",
    "sns.set_theme(style='dark')\n",
    "plt.ylabel('Harga')\n",
    "plt.show()\n"
   ]
  },
  {
   "cell_type": "code",
   "execution_count": 83,
   "metadata": {},
   "outputs": [
    {
     "name": "stdout",
     "output_type": "stream",
     "text": [
      "<class 'pandas.core.frame.DataFrame'>\n",
      "Int64Index: 20247 entries, 0 to 24998\n",
      "Data columns (total 9 columns):\n",
      " #   Column             Non-Null Count  Dtype \n",
      "---  ------             --------------  ----- \n",
      " 0   listing_id         20247 non-null  int64 \n",
      " 1   description        20247 non-null  object\n",
      " 2   room_type          20247 non-null  object\n",
      " 3   price              20247 non-null  int32 \n",
      " 4   neighborhood_full  20247 non-null  object\n",
      " 5   host_name          20247 non-null  object\n",
      " 6   last_review        20247 non-null  object\n",
      " 7   area               20247 non-null  object\n",
      " 8   sub_area           20247 non-null  object\n",
      "dtypes: int32(1), int64(1), object(7)\n",
      "memory usage: 1.5+ MB\n"
     ]
    }
   ],
   "source": [
    "inn.info()"
   ]
  },
  {
   "cell_type": "markdown",
   "metadata": {},
   "source": [
    "**Export data**"
   ]
  },
  {
   "cell_type": "code",
   "execution_count": 84,
   "metadata": {},
   "outputs": [],
   "source": [
    "#import ke csv\n",
    "# inn.to_csv('airBNBNY_cleaned.csv', encoding='utf-8', index=False)\n",
    "#import ke excel\n",
    "inn.to_excel('airBNBNY_data_cleaned.xlsx', encoding='utf-8', index=False) "
   ]
  },
  {
   "cell_type": "code",
   "execution_count": null,
   "metadata": {},
   "outputs": [],
   "source": []
  },
  {
   "cell_type": "code",
   "execution_count": null,
   "metadata": {},
   "outputs": [],
   "source": []
  }
 ],
 "metadata": {
  "kernelspec": {
   "display_name": "Python 3",
   "language": "python",
   "name": "python3"
  },
  "language_info": {
   "codemirror_mode": {
    "name": "ipython",
    "version": 3
   },
   "file_extension": ".py",
   "mimetype": "text/x-python",
   "name": "python",
   "nbconvert_exporter": "python",
   "pygments_lexer": "ipython3",
   "version": "3.8.0"
  }
 },
 "nbformat": 4,
 "nbformat_minor": 4
}
